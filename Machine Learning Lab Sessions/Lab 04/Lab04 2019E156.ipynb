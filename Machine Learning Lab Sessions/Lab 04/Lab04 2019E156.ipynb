{
 "cells": [
  {
   "cell_type": "markdown",
   "id": "3e1e5cb9",
   "metadata": {},
   "source": [
    "# Lab 4"
   ]
  },
  {
   "cell_type": "markdown",
   "id": "b8217c08",
   "metadata": {},
   "source": [
    "# EC9630: Machine Learning"
   ]
  },
  {
   "cell_type": "markdown",
   "id": "637266ce",
   "metadata": {},
   "source": [
    "# Support Vector Machines"
   ]
  },
  {
   "cell_type": "markdown",
   "id": "d5617b52",
   "metadata": {},
   "source": [
    "# 2019/E/156"
   ]
  },
  {
   "cell_type": "code",
   "execution_count": null,
   "id": "12d0d9b0",
   "metadata": {},
   "outputs": [],
   "source": [
    "import numpy as np\n",
    "import pandas as pd\n",
    "from sklearn.model_selection import train_test_split, cross_val_score\n",
    "from sklearn.svm import SVC\n",
    "from sklearn import metrics\n",
    "from sklearn.preprocessing import OneHotEncoder\n",
    "import matplotlib.pyplot as plt"
   ]
  },
  {
   "cell_type": "code",
   "execution_count": 14,
   "id": "bbeb3c4a",
   "metadata": {},
   "outputs": [
    {
     "name": "stdout",
     "output_type": "stream",
     "text": [
      "<class 'pandas.core.frame.DataFrame'>\n",
      "RangeIndex: 615 entries, 0 to 614\n",
      "Data columns (total 14 columns):\n",
      " #   Column      Non-Null Count  Dtype  \n",
      "---  ------      --------------  -----  \n",
      " 0   Unnamed: 0  615 non-null    int64  \n",
      " 1   Category    615 non-null    object \n",
      " 2   Age         615 non-null    int64  \n",
      " 3   Sex         615 non-null    object \n",
      " 4   ALB         614 non-null    float64\n",
      " 5   ALP         597 non-null    float64\n",
      " 6   ALT         614 non-null    float64\n",
      " 7   AST         615 non-null    float64\n",
      " 8   BIL         615 non-null    float64\n",
      " 9   CHE         615 non-null    float64\n",
      " 10  CHOL        605 non-null    float64\n",
      " 11  CREA        615 non-null    float64\n",
      " 12  GGT         615 non-null    float64\n",
      " 13  PROT        614 non-null    float64\n",
      "dtypes: float64(10), int64(2), object(2)\n",
      "memory usage: 67.4+ KB\n",
      "None\n",
      "   Unnamed: 0       Category  Age Sex   ALB   ALP   ALT   AST   BIL    CHE  \\\n",
      "0           1  0=Blood Donor   32   m  38.5  52.5   7.7  22.1   7.5   6.93   \n",
      "1           2  0=Blood Donor   32   m  38.5  70.3  18.0  24.7   3.9  11.17   \n",
      "2           3  0=Blood Donor   32   m  46.9  74.7  36.2  52.6   6.1   8.84   \n",
      "3           4  0=Blood Donor   32   m  43.2  52.0  30.6  22.6  18.9   7.33   \n",
      "4           5  0=Blood Donor   32   m  39.2  74.1  32.6  24.8   9.6   9.15   \n",
      "\n",
      "   CHOL   CREA   GGT  PROT  \n",
      "0  3.23  106.0  12.1  69.0  \n",
      "1  4.80   74.0  15.6  76.5  \n",
      "2  5.20   86.0  33.2  79.3  \n",
      "3  4.74   80.0  33.8  75.7  \n",
      "4  4.32   76.0  29.9  68.7  \n",
      "Unnamed: 0     0\n",
      "Category       0\n",
      "Age            0\n",
      "Sex            0\n",
      "ALB            1\n",
      "ALP           18\n",
      "ALT            1\n",
      "AST            0\n",
      "BIL            0\n",
      "CHE            0\n",
      "CHOL          10\n",
      "CREA           0\n",
      "GGT            0\n",
      "PROT           1\n",
      "dtype: int64\n",
      "Category    0\n",
      "Age         0\n",
      "Sex         0\n",
      "ALB         0\n",
      "ALP         0\n",
      "ALT         0\n",
      "AST         0\n",
      "BIL         0\n",
      "CHE         0\n",
      "CHOL        0\n",
      "CREA        0\n",
      "GGT         0\n",
      "PROT        0\n",
      "dtype: int64\n"
     ]
    }
   ],
   "source": [
    "df = pd.read_csv('https://archive.ics.uci.edu/static/public/571/hcv+data.zip') \n",
    "\n",
    "print(df.info())\n",
    "\n",
    "print(df.head())\n",
    "\n",
    "print(df.isnull().sum())\n",
    "\n",
    "# replace the null values with mean\n",
    "df['ALB'].fillna(df['ALB'].mean(), inplace=True)\n",
    "df['ALP'].fillna(df['ALP'].mean(), inplace=True)\n",
    "df['CHOL'].fillna(df['CHOL'].mean(), inplace=True)\n",
    "df['PROT'].fillna(df['PROT'].mean(), inplace=True)\n",
    "df['ALT'].fillna(df['ALT'].mean(), inplace=True)\n",
    "\n",
    "df = df.drop('Unnamed: 0', axis=1)\n",
    "\n",
    "print(df.isnull().sum())"
   ]
  },
  {
   "cell_type": "code",
   "execution_count": 15,
   "id": "95b80bb0",
   "metadata": {},
   "outputs": [],
   "source": [
    "#perform one-hot encoding for categorical variables\n",
    "df_encoded = pd.get_dummies(df, columns=['Category', 'Sex'])\n",
    "\n",
    "# Split the dataset assuming the last column is the target variable\n",
    "X = df_encoded.iloc[:, :-1]  \n",
    "y = df_encoded.iloc[:, -1]\n",
    "\n",
    "# Split the dataset into training and test sets\n",
    "X_train, X_test, y_train, y_test = train_test_split(X, y, test_size=0.2, random_state=42)"
   ]
  },
  {
   "cell_type": "code",
   "execution_count": 16,
   "id": "8705be42",
   "metadata": {},
   "outputs": [
    {
     "data": {
      "text/html": [
       "<style>#sk-container-id-2 {color: black;background-color: white;}#sk-container-id-2 pre{padding: 0;}#sk-container-id-2 div.sk-toggleable {background-color: white;}#sk-container-id-2 label.sk-toggleable__label {cursor: pointer;display: block;width: 100%;margin-bottom: 0;padding: 0.3em;box-sizing: border-box;text-align: center;}#sk-container-id-2 label.sk-toggleable__label-arrow:before {content: \"▸\";float: left;margin-right: 0.25em;color: #696969;}#sk-container-id-2 label.sk-toggleable__label-arrow:hover:before {color: black;}#sk-container-id-2 div.sk-estimator:hover label.sk-toggleable__label-arrow:before {color: black;}#sk-container-id-2 div.sk-toggleable__content {max-height: 0;max-width: 0;overflow: hidden;text-align: left;background-color: #f0f8ff;}#sk-container-id-2 div.sk-toggleable__content pre {margin: 0.2em;color: black;border-radius: 0.25em;background-color: #f0f8ff;}#sk-container-id-2 input.sk-toggleable__control:checked~div.sk-toggleable__content {max-height: 200px;max-width: 100%;overflow: auto;}#sk-container-id-2 input.sk-toggleable__control:checked~label.sk-toggleable__label-arrow:before {content: \"▾\";}#sk-container-id-2 div.sk-estimator input.sk-toggleable__control:checked~label.sk-toggleable__label {background-color: #d4ebff;}#sk-container-id-2 div.sk-label input.sk-toggleable__control:checked~label.sk-toggleable__label {background-color: #d4ebff;}#sk-container-id-2 input.sk-hidden--visually {border: 0;clip: rect(1px 1px 1px 1px);clip: rect(1px, 1px, 1px, 1px);height: 1px;margin: -1px;overflow: hidden;padding: 0;position: absolute;width: 1px;}#sk-container-id-2 div.sk-estimator {font-family: monospace;background-color: #f0f8ff;border: 1px dotted black;border-radius: 0.25em;box-sizing: border-box;margin-bottom: 0.5em;}#sk-container-id-2 div.sk-estimator:hover {background-color: #d4ebff;}#sk-container-id-2 div.sk-parallel-item::after {content: \"\";width: 100%;border-bottom: 1px solid gray;flex-grow: 1;}#sk-container-id-2 div.sk-label:hover label.sk-toggleable__label {background-color: #d4ebff;}#sk-container-id-2 div.sk-serial::before {content: \"\";position: absolute;border-left: 1px solid gray;box-sizing: border-box;top: 0;bottom: 0;left: 50%;z-index: 0;}#sk-container-id-2 div.sk-serial {display: flex;flex-direction: column;align-items: center;background-color: white;padding-right: 0.2em;padding-left: 0.2em;position: relative;}#sk-container-id-2 div.sk-item {position: relative;z-index: 1;}#sk-container-id-2 div.sk-parallel {display: flex;align-items: stretch;justify-content: center;background-color: white;position: relative;}#sk-container-id-2 div.sk-item::before, #sk-container-id-2 div.sk-parallel-item::before {content: \"\";position: absolute;border-left: 1px solid gray;box-sizing: border-box;top: 0;bottom: 0;left: 50%;z-index: -1;}#sk-container-id-2 div.sk-parallel-item {display: flex;flex-direction: column;z-index: 1;position: relative;background-color: white;}#sk-container-id-2 div.sk-parallel-item:first-child::after {align-self: flex-end;width: 50%;}#sk-container-id-2 div.sk-parallel-item:last-child::after {align-self: flex-start;width: 50%;}#sk-container-id-2 div.sk-parallel-item:only-child::after {width: 0;}#sk-container-id-2 div.sk-dashed-wrapped {border: 1px dashed gray;margin: 0 0.4em 0.5em 0.4em;box-sizing: border-box;padding-bottom: 0.4em;background-color: white;}#sk-container-id-2 div.sk-label label {font-family: monospace;font-weight: bold;display: inline-block;line-height: 1.2em;}#sk-container-id-2 div.sk-label-container {text-align: center;}#sk-container-id-2 div.sk-container {/* jupyter's `normalize.less` sets `[hidden] { display: none; }` but bootstrap.min.css set `[hidden] { display: none !important; }` so we also need the `!important` here to be able to override the default hidden behavior on the sphinx rendered scikit-learn.org. See: https://github.com/scikit-learn/scikit-learn/issues/21755 */display: inline-block !important;position: relative;}#sk-container-id-2 div.sk-text-repr-fallback {display: none;}</style><div id=\"sk-container-id-2\" class=\"sk-top-container\"><div class=\"sk-text-repr-fallback\"><pre>SVC(gamma=&#x27;auto&#x27;)</pre><b>In a Jupyter environment, please rerun this cell to show the HTML representation or trust the notebook. <br />On GitHub, the HTML representation is unable to render, please try loading this page with nbviewer.org.</b></div><div class=\"sk-container\" hidden><div class=\"sk-item\"><div class=\"sk-estimator sk-toggleable\"><input class=\"sk-toggleable__control sk-hidden--visually\" id=\"sk-estimator-id-2\" type=\"checkbox\" checked><label for=\"sk-estimator-id-2\" class=\"sk-toggleable__label sk-toggleable__label-arrow\">SVC</label><div class=\"sk-toggleable__content\"><pre>SVC(gamma=&#x27;auto&#x27;)</pre></div></div></div></div></div>"
      ],
      "text/plain": [
       "SVC(gamma='auto')"
      ]
     },
     "execution_count": 16,
     "metadata": {},
     "output_type": "execute_result"
    }
   ],
   "source": [
    "# Build SVM models with different kernels\n",
    "# Linear Kernel\n",
    "svm_linear = SVC(kernel='linear')\n",
    "svm_linear.fit(X_train, y_train)\n",
    "\n",
    "#Polynomial Kernel\n",
    "svm_poly = SVC(kernel='poly', degree=3)\n",
    "svm_poly.fit(X_train, y_train)\n",
    "\n",
    "# RBF Kernel\n",
    "svm_rbf = SVC(kernel='rbf', gamma='auto')\n",
    "svm_rbf.fit(X_train, y_train)\n",
    "\n"
   ]
  },
  {
   "cell_type": "code",
   "execution_count": 19,
   "id": "d319696f",
   "metadata": {},
   "outputs": [
    {
     "name": "stdout",
     "output_type": "stream",
     "text": [
      "Linear Kernel Accuracy: 1.0\n",
      "Polynomial Kernel Accuracy: 0.7560975609756098\n",
      "RBF Kernel Accuracy: 0.7560975609756098\n"
     ]
    }
   ],
   "source": [
    "# evaluate on the test set\n",
    "linear_pred = svm_linear.predict(X_test)\n",
    "poly_pred = svm_poly.predict(X_test)\n",
    "rbf_pred = svm_rbf.predict(X_test)\n",
    "\n",
    "linear_accuracy = metrics.accuracy_score(y_test, linear_pred)\n",
    "poly_accuracy = metrics.accuracy_score(y_test, poly_pred)\n",
    "rbf_accuracy = metrics.accuracy_score(y_test, rbf_pred)\n",
    "\n",
    "print(\"Linear Kernel Accuracy:\", linear_accuracy)\n",
    "print(\"Polynomial Kernel Accuracy:\", poly_accuracy)\n",
    "print(\"RBF Kernel Accuracy:\", rbf_accuracy)\n",
    "\n",
    "\n"
   ]
  },
  {
   "cell_type": "code",
   "execution_count": 22,
   "id": "cb23f415",
   "metadata": {},
   "outputs": [
    {
     "name": "stdout",
     "output_type": "stream",
     "text": [
      "Linear Kernel Cross-Validation Scores: 1.0\n",
      "Polynomial Kernel Cross-Validation Scores: 0.789978847170809\n",
      "RBF Kernel Cross-Validation Scores: 0.613008989952406\n"
     ]
    }
   ],
   "source": [
    "k = 10  # Number of folds\n",
    "\n",
    "linear_scores = cross_val_score(svm_linear, X, y, cv=k)\n",
    "poly_scores = cross_val_score(svm_poly, X, y, cv=k)\n",
    "rbf_scores = cross_val_score(svm_rbf, X, y, cv=k)\n",
    "\n",
    "print(\"Linear Kernel Cross-Validation Scores:\", linear_scores.mean())\n",
    "print(\"Polynomial Kernel Cross-Validation Scores:\", poly_scores.mean())\n",
    "print(\"RBF Kernel Cross-Validation Scores:\", rbf_scores.mean())\n",
    "\n"
   ]
  },
  {
   "cell_type": "code",
   "execution_count": 23,
   "id": "da5252a2",
   "metadata": {},
   "outputs": [
    {
     "name": "stdout",
     "output_type": "stream",
     "text": [
      "Linear Kernel Cross-Validation Scores: 1.0\n",
      "Polynomial Kernel Cross-Validation Scores: 0.783739837398374\n",
      "RBF Kernel Cross-Validation Scores: 0.6113821138211383\n"
     ]
    }
   ],
   "source": [
    "k = 5  # Number of folds\n",
    "\n",
    "linear_scores = cross_val_score(svm_linear, X, y, cv=k)\n",
    "poly_scores = cross_val_score(svm_poly, X, y, cv=k)\n",
    "rbf_scores = cross_val_score(svm_rbf, X, y, cv=k)\n",
    "\n",
    "print(\"Linear Kernel Cross-Validation Scores:\", linear_scores.mean())\n",
    "print(\"Polynomial Kernel Cross-Validation Scores:\", poly_scores.mean())\n",
    "print(\"RBF Kernel Cross-Validation Scores:\", rbf_scores.mean())"
   ]
  },
  {
   "cell_type": "code",
   "execution_count": null,
   "id": "e42d25a6",
   "metadata": {},
   "outputs": [],
   "source": []
  }
 ],
 "metadata": {
  "kernelspec": {
   "display_name": "Python 3 (ipykernel)",
   "language": "python",
   "name": "python3"
  },
  "language_info": {
   "codemirror_mode": {
    "name": "ipython",
    "version": 3
   },
   "file_extension": ".py",
   "mimetype": "text/x-python",
   "name": "python",
   "nbconvert_exporter": "python",
   "pygments_lexer": "ipython3",
   "version": "3.10.9"
  }
 },
 "nbformat": 4,
 "nbformat_minor": 5
}
